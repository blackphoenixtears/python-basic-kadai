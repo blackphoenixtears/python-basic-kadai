{
  "nbformat": 4,
  "nbformat_minor": 0,
  "metadata": {
    "colab": {
      "provenance": []
    },
    "kernelspec": {
      "name": "python3",
      "display_name": "Python 3"
    },
    "language_info": {
      "name": "python"
    }
  },
  "cells": [
    {
      "cell_type": "code",
      "execution_count": 44,
      "metadata": {
        "colab": {
          "base_uri": "https://localhost:8080/"
        },
        "id": "QUbPx5I4W5YL",
        "outputId": "fe728ab7-12c9-4083-df23-5f0e9ddcd4ab"
      },
      "outputs": [
        {
          "output_type": "stream",
          "name": "stdout",
          "text": [
            "39\n"
          ]
        }
      ],
      "source": [
        " import random\n",
        "num = random.randint(1, 100)\n",
        "print(num)"
      ]
    },
    {
      "cell_type": "code",
      "source": [
        "def check_fizzbuzz(var):\n",
        "    if var % 3 == 0 and var % 5 == 0:\n",
        "        return \"FizzBuzz\"\n",
        "    elif var % 3 == 0:\n",
        "        return \"Fizz\"\n",
        "    elif var % 5 == 0:\n",
        "        return \"Buzz\"\n",
        "    else:\n",
        "        return var\n",
        "\n",
        "num = random.randint(1, 100)\n",
        "result =(num)\n",
        "print(num and result)\n",
        "print(check_fizzbuzz(result))"
      ],
      "metadata": {
        "colab": {
          "base_uri": "https://localhost:8080/"
        },
        "id": "k7jN3CAMYeLb",
        "outputId": "676351c3-de3d-4474-c01a-ec24463b56a3"
      },
      "execution_count": 63,
      "outputs": [
        {
          "output_type": "stream",
          "name": "stdout",
          "text": [
            "38\n",
            "38\n"
          ]
        }
      ]
    }
  ]
}